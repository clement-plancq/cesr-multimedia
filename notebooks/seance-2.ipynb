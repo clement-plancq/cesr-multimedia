{
 "cells": [
  {
   "cell_type": "markdown",
   "id": "4d1e0518",
   "metadata": {},
   "source": [
    "# Traitement de données audio en Python\n",
    "## Séance 2 : Manipulations simples avec le package [Pydub](http://pydub.com/)\n",
    "\n",
    "Nous allons présenter des exemples de traitement sur le fichier [electric_cello.wav](../audio/electric_cello.wav)"
   ]
  },
  {
   "cell_type": "markdown",
   "id": "8466818d",
   "metadata": {},
   "source": [
    "Évidemment pour pouvoir utiliser `pydub` il faut l’avoir installé au préalable.\n",
    "\n",
    "`python3 -m pip install pydub` ou `conda install pydub`"
   ]
  },
  {
   "cell_type": "markdown",
   "id": "4e910050",
   "metadata": {},
   "source": [
    "Comme vous l’avez vu, un fichier son est constitué d’un ensemble d’échantillons. Pour un fichier wav PCM on aura une suite d’octets composée d’un en-tête suivi pour les échantillons.\n",
    "\n",
    "Les classes et les fonctions de `pydub` vont vous permettre de manipuler simplement les données contenues dans un fichier son. Dans différents formats (wav, mp3, ogg, …) mais pour ce TP nous nous en tiendrons au format wav PCM."
   ]
  },
  {
   "cell_type": "markdown",
   "id": "115224b1",
   "metadata": {},
   "source": [
    "## Exercices de la séance 1\n",
    "\n",
    "En utilisant le package Pydub et sa documentation :\n",
    "\n",
    "1. Afficher les paramètres d’encodage de notre fichier\n",
    "2. Extraire les 10 premières secondes de notre fichier son et les écouter\n",
    "3. Extraire les 20 dernières secondes et les exporter en wav"
   ]
  },
  {
   "cell_type": "markdown",
   "id": "042b01b1",
   "metadata": {},
   "source": [
    "### 1. Afficher les paramètres d’encodage de notre fichier\n",
    "\n",
    "Il faut commencer par lire la documentation de la classe [AudioSegment](https://github.com/jiaaro/pydub/blob/master/API.markdown#audiosegment) et repérer comment accéder aux informations d’encodage."
   ]
  },
  {
   "cell_type": "code",
   "execution_count": 1,
   "id": "9bb2b639",
   "metadata": {},
   "outputs": [
    {
     "name": "stdout",
     "output_type": "stream",
     "text": [
      "nombre de canaux : 2, \n",
      "fréquence d’échantillonage : 48000, \n",
      "résolution de chaque échantillon : 2, \n",
      "nombre de frames : 1170432.0\n"
     ]
    }
   ],
   "source": [
    "# Afficher les paramètres d’encodage de notre fichier\n",
    "\n",
    "from pydub import AudioSegment\n",
    "\n",
    "song = AudioSegment.from_wav(\"../audio/electric_cello.wav\")\n",
    "print(f\"nombre de canaux : {song.channels}, \\\n",
    "\\nfréquence d’échantillonage : {song.frame_rate}, \\\n",
    "\\nrésolution de chaque échantillon : {song.sample_width}, \\\n",
    "\\nnombre de frames : {song.frame_count()}\")"
   ]
  },
  {
   "cell_type": "markdown",
   "id": "904cbc3d",
   "metadata": {},
   "source": [
    "### 2. Extraire les 10 premières secondes et les écouter\n",
    "\n",
    "`song` est un objet de la classe `AudioSegment`. Au vu de la [documentation](http://pydub.com/) et du [code source](https://github.com/jiaaro/pydub/blob/master/pydub/audio_segment.py) on comprend que `song` est un [*iterable*](https://docs.python.org/3/glossary.html#term-iterable) et une [*sequence*](https://docs.python.org/3/glossary.html#term-sequence). On peut utiliser un [*slice*](https://docs.python.org/3/glossary.html#term-slice) pour le découper."
   ]
  },
  {
   "cell_type": "code",
   "execution_count": 2,
   "id": "e2628539",
   "metadata": {
    "slideshow": {
     "slide_type": "subslide"
    }
   },
   "outputs": [
    {
     "name": "stdout",
     "output_type": "stream",
     "text": [
      "10000\n"
     ]
    }
   ],
   "source": [
    "# Extraire les 10 premières secondes et les écouter\n",
    "\n",
    "from pydub import AudioSegment\n",
    "from pydub.playback import play\n",
    "\n",
    "song = AudioSegment.from_wav(\"../audio/electric_cello.wav\")\n",
    "first_10_seconds = song[0:10000] # extraction des 10 premières secondes à l’aide d’un slice\n",
    "print(len(first_10_seconds))\n",
    "#play(first_10_seconds)"
   ]
  },
  {
   "cell_type": "markdown",
   "id": "7e3b953d",
   "metadata": {},
   "source": [
    "### 3. Extraire les 20 dernières secondes et les exporter en wav\n",
    "\n",
    "Là aussi la documentation nous donne les réponses ou presque. Encore une fois on découpe la suite d’échantillons et `pydub` nous permet de générer un fichier wav avec notre morceau découpé.\n",
    "La fonction `export` ajoute l’en-tête wav avec les infos nécessaires à notre découpe puis crée un fichier à l’emplacement désiré. "
   ]
  },
  {
   "cell_type": "code",
   "execution_count": null,
   "id": "605bbb7e",
   "metadata": {},
   "outputs": [],
   "source": [
    "from pydub import AudioSegment\n",
    "from pydub.playback import play\n",
    "\n",
    "song = AudioSegment.from_wav(\"../audio/electric_cello.wav\")\n",
    "last_20_seconds = song[-20000:] # extraction des 10 premières secondes à l’aide d’un slice\n",
    "last_20_seconds.export(\"../audio/electric_cello_last20s.wav\", format=\"wav\")"
   ]
  },
  {
   "cell_type": "markdown",
   "id": "74e4964d",
   "metadata": {},
   "source": [
    "## Exploration de `pydub`\n",
    "\n",
    "Pydub est un package de haut niveau qui a l’avantage d’être simple à utiliser.  \n",
    "Mais comme le dit la [documentation](https://github.com/jiaaro/pydub/blob/master/API.markdown#api-documentation), une partie des fonctions ne sont pas signalées dans la doc. Il faut donc aussi explorer le code source pour apprendre à utiliser toutes les fonctions."
   ]
  },
  {
   "cell_type": "markdown",
   "id": "f30c26c4",
   "metadata": {},
   "source": [
    "### 1. Génération de silence\n",
    "\n",
    "Avec la fonction `silence` générer 5 secondes de silence"
   ]
  },
  {
   "cell_type": "code",
   "execution_count": null,
   "id": "2386c8dc",
   "metadata": {},
   "outputs": [],
   "source": [
    "silence = AudioSegment.silent(duration=5000, frame_rate=48000)\n",
    "len(silence)\n",
    "#play(silence)"
   ]
  },
  {
   "cell_type": "markdown",
   "id": "45d19a2f",
   "metadata": {},
   "source": [
    "### 2. Concaténation\n",
    "\n",
    "Ajouter ce silence avant les 10 premières secondes"
   ]
  },
  {
   "cell_type": "code",
   "execution_count": null,
   "id": "26345839",
   "metadata": {},
   "outputs": [],
   "source": [
    "silence_10 = silence + first_10_seconds\n",
    "len(silence_10)\n",
    "#play(silence_10)"
   ]
  },
  {
   "cell_type": "markdown",
   "id": "4afde463",
   "metadata": {},
   "source": [
    "La concaténation est réalisée grâce à l’opérateur `+` qui est déjà utilisé pour concaténer des chaînes de caractères (`str`, voir doc [ici](https://realpython.com/python-string-split-concatenate-join/#concatenating-and-joining-strings) par exemple).  \n",
    "Pour que la concaténation avec `+` fonctionne, pydub surcharge la fonction `__add__` (voir le code source [ici](https://github.com/jiaaro/pydub/blob/996cec42e9621701edb83354232b2c0ca0121560/pydub/audio_segment.py#L362))"
   ]
  },
  {
   "cell_type": "markdown",
   "id": "27590160",
   "metadata": {},
   "source": [
    "#### 3. Augmentation et diminution du volume\n",
    "\n",
    "Répéter les 2 premières secondes 3 fois : à volume normal, -6db, +6db"
   ]
  },
  {
   "cell_type": "code",
   "execution_count": null,
   "id": "cc9f98e5",
   "metadata": {
    "scrolled": true
   },
   "outputs": [],
   "source": [
    "# extraire les 2 premières secondes dans une variable two_seconds\n",
    "two_seconds = song[0:2000]\n",
    "# diminuer de 6 db et stocker dans variable two_seconds_6minus\n",
    "two_seconds_6minus = two_seconds - 6\n",
    "# augmenter de 6 db et stocker dans variable two_seconds_6plus\n",
    "two_seconds_6plus = two_seconds + 6\n",
    "# concaténer two_seconds, two_seconds_6minus et two_seconds_6plus\n",
    "two_seconds_3fois = two_seconds + two_seconds_6minus + two_seconds_6plus\n",
    "len(two_seconds_3fois)\n",
    "play(two_seconds_3fois)"
   ]
  },
  {
   "cell_type": "markdown",
   "id": "c5bd6da7",
   "metadata": {},
   "source": [
    "Ici aussi pydub ajoute un comportement à l’opérateur `+`. En fonction du type des opérandes, `+` appliquera une concaténation ou un gain de volume."
   ]
  },
  {
   "cell_type": "markdown",
   "id": "7c0dfcad",
   "metadata": {},
   "source": [
    "### 4. *Fade*\n",
    "\n",
    "Voir les fonctions `fade`, `fade_in`, `fade_out`"
   ]
  },
  {
   "cell_type": "code",
   "execution_count": null,
   "id": "16d56c77",
   "metadata": {},
   "outputs": [],
   "source": [
    "# exemple pour un fade_in de 2,5 secondes sur les 5 premières secondes\n",
    "\n",
    "play(song[0:5000].fade_in(duration=2500))"
   ]
  },
  {
   "cell_type": "markdown",
   "id": "b9fd0cf7",
   "metadata": {},
   "source": [
    "### 5. À l’envers\n",
    "\n",
    "Comment faire pour lire notre enregistrement à l’envers ? À partir de la fin jusqu’au début."
   ]
  },
  {
   "cell_type": "code",
   "execution_count": null,
   "id": "f0d68791",
   "metadata": {
    "scrolled": true
   },
   "outputs": [],
   "source": [
    "play(song.reverse())"
   ]
  },
  {
   "cell_type": "markdown",
   "id": "f9628115",
   "metadata": {},
   "source": [
    "Une autre façon, en manipulant le tableau de données"
   ]
  },
  {
   "cell_type": "code",
   "execution_count": null,
   "id": "56dffcb3",
   "metadata": {},
   "outputs": [],
   "source": [
    "data = song.get_array_of_samples()\n",
    "reverse = song._spawn(data[::-1])\n",
    "play(reverse)"
   ]
  },
  {
   "cell_type": "markdown",
   "id": "28a86c94",
   "metadata": {},
   "source": [
    "5.1 Avec notre enregistrement à l’envers nous allons créer un nouvel objet `AudioSegment ` de 2 canaux avec dans le canal gauche l’enregistrement à l’endroit et dans le canal droit l’enregistrement à l’envers "
   ]
  },
  {
   "cell_type": "code",
   "execution_count": 3,
   "id": "51edb5bb",
   "metadata": {},
   "outputs": [
    {
     "name": "stderr",
     "output_type": "stream",
     "text": [
      "Input #0, wav, from '/tmp/tmpk_oxstic.wav':   0KB sq=    0B f=0/0   \n",
      "  Duration: 00:00:24.38, bitrate: 1536 kb/s\n",
      "  Stream #0:0: Audio: pcm_s16le ([1][0][0][0] / 0x0001), 48000 Hz, 2 channels, s16, 1536 kb/s\n",
      "  24.23 M-A: -0.000 fd=   0 aq=    0KB vq=    0KB sq=    0B f=0/0   \r"
     ]
    },
    {
     "name": "stdout",
     "output_type": "stream",
     "text": [
      "\n"
     ]
    },
    {
     "name": "stderr",
     "output_type": "stream",
     "text": [
      "  24.26 M-A:  0.000 fd=   0 aq=    0KB vq=    0KB sq=    0B f=0/0   \r",
      "  24.29 M-A:  0.000 fd=   0 aq=    0KB vq=    0KB sq=    0B f=0/0   \r",
      "  24.32 M-A:  0.000 fd=   0 aq=    0KB vq=    0KB sq=    0B f=0/0   \r"
     ]
    }
   ],
   "source": [
    "# on doit générer deux objets AudioSegment sur un seul canal\n",
    "# pour cela on utilise la fonction `split_to_mono` qui renvoie une liste\n",
    "# (si deux canaux alors deux éléments dans la liste)\n",
    "# on ne conserve que le premier élément de la liste\n",
    "left_channel = song.split_to_mono()[0]\n",
    "\n",
    "# idem pour le morceau inversé\n",
    "right_channel = song.reverse().split_to_mono()[0]\n",
    "\n",
    "# `from_mono_audiosegments` permet de construire un segment stéréo à partir de deux segments mono\n",
    "stereo_sound = AudioSegment.from_mono_audiosegments(left_channel, right_channel)\n",
    "play(stereo_sound)\n"
   ]
  },
  {
   "cell_type": "markdown",
   "id": "bc2fcc36",
   "metadata": {},
   "source": [
    "### 6. Détection de silence\n",
    "\n",
    "Ici aussi on va utiliser une fonction existante : `detect_silence` (voir le code source [ici](https://github.com/jiaaro/pydub/blob/996cec42e9621701edb83354232b2c0ca0121560/pydub/silence.py#L9))  \n",
    "Cette fonction fait partie du module `silence` qu’il faudra ajouter à nos imports.\n",
    "\n",
    "C’est une fonction de haut niveau, son exécution pourra être un peu plus lente que les fonctions vus précedemment."
   ]
  },
  {
   "cell_type": "code",
   "execution_count": null,
   "id": "2b745c94",
   "metadata": {},
   "outputs": [],
   "source": [
    "\n",
    "from pydub.silence import detect_silence\n",
    "\n",
    "# a minima vous devez appeler detect_silence avec deux arguments\n",
    "# le segment à analyser et le seuil de détection en différence de db\n",
    "# essayer plusieurs seuils pour arriver à un résultat satisfaisant\n",
    "silences = detect_silence(song, silence_thresh=-20)\n",
    "\n",
    "# le résultat est une liste de segments de silences\n",
    "# type(silences)\n",
    "first_silence = silences[0]\n",
    "print(f\"le premier silence dure {len(first_silence)} secondes\")\n",
    "print(f\"début : {first_silence[0]} ms\")\n",
    "print(f\"fin : {first_silence[1]} ms\")"
   ]
  },
  {
   "cell_type": "markdown",
   "id": "0eccda34",
   "metadata": {},
   "source": [
    "### 7. *Overlay*\n",
    "\n",
    "L’*overlay* permet d’ajouter un segment audio sur un segment audio, comme une surcouche.  \n",
    "\n",
    "Vous pouvez utiliser la fonction `overlay`, elle est commentée [ici](https://github.com/jiaaro/pydub/blob/master/API.markdown#audiosegmentoverlay)"
   ]
  },
  {
   "cell_type": "code",
   "execution_count": 4,
   "id": "98340998",
   "metadata": {},
   "outputs": [
    {
     "name": "stderr",
     "output_type": "stream",
     "text": [
      "Input #0, wav, from '/tmp/tmp01c2w7ai.wav':   0KB sq=    0B f=0/0   \n",
      "  Duration: 00:00:24.38, bitrate: 1536 kb/s\n",
      "  Stream #0:0: Audio: pcm_s16le ([1][0][0][0] / 0x0001), 48000 Hz, 2 channels, s16, 1536 kb/s\n",
      "  24.34 M-A:  0.000 fd=   0 aq=    0KB vq=    0KB sq=    0B f=0/0   \r"
     ]
    },
    {
     "name": "stdout",
     "output_type": "stream",
     "text": [
      "\n"
     ]
    }
   ],
   "source": [
    "# Ici on ajoute une surcouche avec les 2 premières secondes du morceau\n",
    "# l’overlay commence à 2 secondes et est répété en boucle\n",
    "overlayed = song.overlay(song[0:2000], position=2000, loop=True)\n",
    "play(overlayed)"
   ]
  },
  {
   "cell_type": "markdown",
   "id": "14696779",
   "metadata": {},
   "source": [
    "### 8. Quel algorithme pour une fonction de *delay* ?\n",
    "\n",
    "Le *delay* est un effet très utilisé dans la musique populaire et la musique concrète. Par exemple dans [Run Like Hell](https://youtu.be/j2s8yGMEbSs?si=-lKBfNnR7vuAI432) des Pink Floyd, plein de titres de U2 ([Pride](https://youtu.be/LHcP4MWABGY?si=7cB4eGOVhGB80nR9&t=14) par exemple) ou encore dans le dub ([exemple](https://youtu.be/vQXoxh0wwKc?si=yRmN8t8ljeGG7Xbb) avec un titre de Groundation).\n",
    "\n",
    "C’est un effet d’écho où un extrait du signal est répété plusieurs fois."
   ]
  }
 ],
 "metadata": {
  "kernelspec": {
   "display_name": "Python 3 (ipykernel)",
   "language": "python",
   "name": "python3"
  },
  "language_info": {
   "codemirror_mode": {
    "name": "ipython",
    "version": 3
   },
   "file_extension": ".py",
   "mimetype": "text/x-python",
   "name": "python",
   "nbconvert_exporter": "python",
   "pygments_lexer": "ipython3",
   "version": "3.10.12"
  }
 },
 "nbformat": 4,
 "nbformat_minor": 5
}
