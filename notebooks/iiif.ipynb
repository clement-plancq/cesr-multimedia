{
 "cells": [
  {
   "cell_type": "markdown",
   "id": "e23e4849",
   "metadata": {
    "slideshow": {
     "slide_type": "slide"
    }
   },
   "source": [
    "# Données multimédia : Python pour le traitement d’images et de données audio\n",
    "\n",
    "## Master Humanités Numériques du [CESR](https://cesr.univ-tours.fr/)\n",
    "\n",
    "Clément Plancq (MSH VDL / CITERES)"
   ]
  },
  {
   "cell_type": "markdown",
   "id": "49b1b201",
   "metadata": {
    "slideshow": {
     "slide_type": "slide"
    }
   },
   "source": [
    "![logo iiif](../img/Logo_Stacked_lightweight.png)\n",
    "\n",
    "[iiif.io](https://iiif.io)"
   ]
  },
  {
   "cell_type": "markdown",
   "id": "22917888",
   "metadata": {
    "slideshow": {
     "slide_type": "slide"
    }
   },
   "source": [
    "iiif définit un cadre technique commun à destination des fournisseurs d’image numériques afin de : \n",
    " - délivrer les images de manière standardisée sur le web\n",
    " - les décrire à l’aide de métadonnées structurées\n",
    " - les rendre consultables, manipulables, annotables\n",
    " "
   ]
  },
  {
   "cell_type": "markdown",
   "id": "ce64f013",
   "metadata": {
    "slideshow": {
     "slide_type": "slide"
    }
   },
   "source": [
    "Concrètement ce cadre techinque ce sont des [APIs](https://iiif.io/api/index.html) :\n",
    " - *Image API*\n",
    " - *Presentation API*\n",
    " - Authentification\n",
    " - Content Search"
   ]
  },
  {
   "cell_type": "markdown",
   "id": "13396c93",
   "metadata": {
    "slideshow": {
     "slide_type": "slide"
    }
   },
   "source": [
    "iiif est porté par un consortium de musées, d’universités, de bibliothèques nationales, … Voir la [liste des membres](https://iiif.io/community/consortium/members/)\n",
    "\n",
    "![carte](../img/iiif-implementations.png)\n",
    "\n",
    "Voir la [carte](https://bit.ly/iiifmap)"
   ]
  },
  {
   "cell_type": "markdown",
   "id": "a96664ad",
   "metadata": {
    "slideshow": {
     "slide_type": "slide"
    }
   },
   "source": [
    "iiif est né en réponse aux problèmes rencontrés après les années 2000 et la prolifération des projets de bibliothéques numériques : \n",
    "- incapacité des systèmes à échanger des données : manque d’interopérabilité\n",
    "- développement de serveur de diffusion d’image et/ou de visualiseur propre à chaque projet : long, coûteux et difficile à maintenir\n",
    "- outils avec UIs et fonctionnalités différentes : difficile à appréhender par les chercheurs"
   ]
  },
  {
   "cell_type": "markdown",
   "id": "8be9a022",
   "metadata": {
    "slideshow": {
     "slide_type": "slide"
    }
   },
   "source": [
    "En plus des standards, iiif soutient et fédère le développement d’applications open source et partagées : \n",
    " - serveur d’images\n",
    " - visualiseurs\n",
    " - outils d’annotation\n",
    " - modules pour CMS\n",
    " \n",
    "Voir [https://github.com/IIIF/awesome-iiif](https://github.com/IIIF/awesome-iiif)"
   ]
  },
  {
   "cell_type": "markdown",
   "id": "93abaca1",
   "metadata": {
    "slideshow": {
     "slide_type": "slide"
    }
   },
   "source": [
    "## Zoom profond\n",
    "\n",
    "![Japanese Tax Map](https://training.iiif.io/iiif-online-workshop/day-one/img/img_5813.jpg)\n",
    "\n",
    "[Voir la carte sur Stanford Digital Repository](https://purl.stanford.edu/hs631zg4177)"
   ]
  },
  {
   "cell_type": "markdown",
   "id": "c89f61f2",
   "metadata": {
    "slideshow": {
     "slide_type": "slide"
    }
   },
   "source": [
    "## Comparaison d’images\n",
    "\n",
    "[https://www.theleidencollection.com/viewer/david-and-uriah/](https://www.theleidencollection.com/viewer/david-and-uriah/)\n",
    "\n"
   ]
  },
  {
   "cell_type": "markdown",
   "id": "6e4654bf",
   "metadata": {
    "slideshow": {
     "slide_type": "slide"
    }
   },
   "source": [
    "## Images de plusieurs sites\n",
    "\n",
    "Le manuscrit 5 de la Bibliothèque municipale de Châteauroux, c. 1460.  \n",
    "Folio est à la BVMM (Bibliotheque Virtuelle de Manuscrits medievaux, IRHT)  \n",
    "Miniature est à la BNF\n",
    "\n",
    "[http://demos.biblissima-condorcet.fr/chateauroux/demo/\n",
    "](http://demos.biblissima-condorcet.fr/chateauroux/demo/\n",
    ")\n"
   ]
  },
  {
   "cell_type": "markdown",
   "id": "07b9c572",
   "metadata": {
    "slideshow": {
     "slide_type": "slide"
    }
   },
   "source": [
    "## Recherche\n",
    "\n",
    "Exemple de recherche sur manuscrit avec OCR\n",
    "\n",
    "[https://mirador-textoverlay.netlify.app/](https://mirador-textoverlay.netlify.app/)"
   ]
  },
  {
   "cell_type": "markdown",
   "id": "7aaf1405",
   "metadata": {
    "slideshow": {
     "slide_type": "slide"
    }
   },
   "source": [
    "## Annotations\n",
    "\n",
    "- Exemple avec Mirador : [https://projectmirador.org/](https://projectmirador.org/) cliquez sur \"Try a live demo\"  \n",
    "- Exemple ave Adno : [https://adno.app/en/example/](https://adno.app/en/example/)\n",
    "- Exemple avec [Annona](https://ncsu-libraries.github.io/annona/) : [https://ericayhayes.github.io/audubon/exhibits/](https://ericayhayes.github.io/audubon/exhibits/)"
   ]
  },
  {
   "cell_type": "markdown",
   "id": "c8b76167",
   "metadata": {
    "slideshow": {
     "slide_type": "slide"
    }
   },
   "source": [
    "## Visites guidées\n",
    "\n",
    "- Exemple avec [Exhibit](https://www.exhibit.so/) : [Jane Austen](https://www.exhibit.so/exhibits/H8eRALyZNl8STQKrNev9?screen=SGtYJLcsaJgGpEhv55Lp)\n"
   ]
  },
  {
   "cell_type": "markdown",
   "id": "13b4fc33",
   "metadata": {
    "slideshow": {
     "slide_type": "slide"
    }
   },
   "source": [
    "## Comment ça marche ?\n",
    "\n",
    "Deux APIs principales :\n",
    "\n",
    "- [Image API](https://iiif.io/api/image/3.0/)\n",
    "- [Presentation API](https://iiif.io/api/presentation/3.0/)"
   ]
  },
  {
   "cell_type": "markdown",
   "id": "5024ff4d",
   "metadata": {
    "slideshow": {
     "slide_type": "slide"
    }
   },
   "source": [
    "## Image API\n",
    "\n",
    "Elle spécifie un service web qui renvoie une image en réponse à une requête HTTP ou HTTPS  \n",
    "La requête peut porter sur :\n",
    "- l’image elle-même\n",
    "- de l’information sur l’image\n",
    "\n",
    "La requête sur l’image se fait via une URI avec la syntaxe suivante :  \n",
    "`{scheme}://{server}{/prefix}/{identifier}/{region}/{size}/{rotation}/{quality}.{format}`\n",
    "\n",
    "Exemple :\n",
    "https://ids.lib.harvard.edu/ids/iiif/25286607/full/200,/0/default.jpg\n"
   ]
  },
  {
   "cell_type": "markdown",
   "id": "a4037e1c",
   "metadata": {
    "slideshow": {
     "slide_type": "slide"
    }
   },
   "source": [
    "scheme: `https`  \n",
    "server: `ids.lib.harvard.edu`  \n",
    "prefix: `/ids/iiif/`  \n",
    "identifier: `25286607`  \n",
    "region: `full`  \n",
    "size: `200,`  \n",
    "rotation: `0`  \n",
    "quality: `default`  \n",
    "format: `jpg`  \n",
    "![](https://ids.lib.harvard.edu/ids/iiif/25286607/full/200,/0/default.jpg)"
   ]
  },
  {
   "cell_type": "markdown",
   "id": "896ec8bf",
   "metadata": {
    "slideshow": {
     "slide_type": "slide"
    }
   },
   "source": [
    "### `region`\n",
    "\n",
    "| Valeur |  Description |\n",
    "| ------------------- | ------------ |\n",
    "| `full`              | Image entière |\n",
    "| `square`            | Image au format carré renvoyée par le serveur |\n",
    "| _`x,y,w,h`_         | _`x`_ : nombre de pixels depuis la position 0 sur l’axe horizontal, _`y`_  position 0 sur l’axe vertical (0,0 est le coin gauche par exemple).  _`w`_ : larguer, _`h`_ : hauteur en pixels  |\n",
    "| _`pct:x,y,w,h`_     | Même chose mais en pourcentage de l’image originale |\n"
   ]
  },
  {
   "cell_type": "markdown",
   "id": "6eab7940",
   "metadata": {
    "slideshow": {
     "slide_type": "slide"
    }
   },
   "source": [
    "### `size`\n",
    "\n",
    "| Valeur      | Description |\n",
    "| --------- | ----------- |\n",
    "| `max`     | Taille maximal mais pas d’upscale |\n",
    "| _`w,`_    | L’image renvoyée doit faire cette largeur (attention pas plus grande que la largeur de l’image) |\n",
    "| _`,h`_    | Idem pour la hauteur\n",
    "| _`pct:n`_ | Largeur et hauteur au `n` pourcent de l’image originale |\n",
    "| _`w,h`_   | Largeur, hauteur |\n",
    "\n",
    "Et autres subtilités, voir [les spécifications](https://iiif.io/api/image/3.0/#42-size)\n",
    "\n"
   ]
  },
  {
   "cell_type": "markdown",
   "id": "3d3c70b2",
   "metadata": {
    "slideshow": {
     "slide_type": "slide"
    }
   },
   "source": [
    "### `rotation`\n",
    "\n",
    "Une valeur entre 0 et 360\n",
    "\n",
    "### `quality`\n",
    "\n",
    "| Valeur   | Description |\n",
    "| --------- | ------------------ |\n",
    "| `color`   | En couleur |\n",
    "| `gray`    | En niveau de gris |\n",
    "| `bitonal` | Noir et blanc |\n",
    "| `default` | Valeur par défaut indiquée par le serveur |\n",
    "\n",
    "### `format`\n",
    "\n",
    "Les formats supportés par le serveur parmi `jpg`, `tif`, `png`, `pdf`, `jp2`"
   ]
  },
  {
   "cell_type": "markdown",
   "id": "6c40054a",
   "metadata": {
    "slideshow": {
     "slide_type": "slide"
    }
   },
   "source": [
    "Vous pouvez modifier les paramètres d’une requête sur cette page : [https://www.learniiif.org/image-api/playground](https://www.learniiif.org/image-api/playground)\n",
    "\n",
    "Afficher avec Pilow l’image `https://ids.lib.harvard.edu/ids/iiif/25286607` à la 10% de sa taille, inversée et en niveaux de gris"
   ]
  },
  {
   "cell_type": "markdown",
   "id": "8b0c56df",
   "metadata": {
    "slideshow": {
     "slide_type": "slide"
    }
   },
   "source": [
    "![](https://ids.lib.harvard.edu/ids/iiif/25286607/full/pct:10/180/gray.jpg\n",
    ")"
   ]
  },
  {
   "cell_type": "markdown",
   "id": "006a888c",
   "metadata": {
    "slideshow": {
     "slide_type": "slide"
    }
   },
   "source": [
    "## Information\n",
    "\n",
    "`{scheme}://{server}{/prefix}/{identifier}/info.json`\n",
    "\n",
    "Donne des informations sur l’image (taille notamment) et sur le serveur (formats, version de l’API supportée, _)\n",
    "\n",
    "Voir [https://iiif.io/api/image/3.0/#5-image-information](https://iiif.io/api/image/3.0/#5-image-information)\n"
   ]
  },
  {
   "cell_type": "markdown",
   "id": "ce4cbcab",
   "metadata": {
    "slideshow": {
     "slide_type": "slide"
    }
   },
   "source": [
    "## Serveurs et clients pour *Image API*\n",
    "\n",
    "Serveurs :\n",
    "\n",
    "- [Cantaloupe](https://cantaloupe-project.github.io/) - Image server written in Java fully conformant to all IIIF Image API versions through 3.0.\n",
    "- [IIPImage Server](http://iipimage.sourceforge.net/documentation/server/) - High performance image server.\n",
    "- [Loris](https://github.com/loris-imageserver/loris) - Written in Python.\n",
    "\n",
    "Clients, visualiseurs :\n",
    "\n",
    "- [Mirador](projectmirador.org/) - Multi-up workspace. See also [Awesome Mirador list](https://github.com/ProjectMirador/mirador-awesome).\n",
    "- [Tify](https://github.com/subugoe/tify) - Slim and fast IIIF document viewer built with Vue.js.\n",
    "- [Universal Viewer](universalviewer.io/) - Rich embeddable interface.\n",
    "- [OpenSeadragon](https://openseadragon.github.io/examples/tilesource-iiif/) - IIIF tile support.\n",
    "\n",
    "\n",
    "Liste complète : [https://github.com/IIIF/awesome-iiif](https://github.com/IIIF/awesome-iiif)\n",
    "\n"
   ]
  },
  {
   "cell_type": "markdown",
   "id": "16d8ecb7",
   "metadata": {
    "slideshow": {
     "slide_type": "slide"
    }
   },
   "source": [
    "# JSON\n",
    "\n",
    "JavaScript Object Notation  \n",
    "Format de données structurées de type texte  \n",
    "Léger, peu verbeux, beaucoup utilisé par les APIs\n",
    "\n",
    "Il peut contenir :\n",
    " - des objets Javascript (dict)\n",
    " - des tableaux Javascript (list)\n",
    " - booléens\n",
    " - nombres\n",
    " - chaînes de caractères\n",
    " - valeur `null`\n"
   ]
  },
  {
   "cell_type": "code",
   "execution_count": 1,
   "id": "2f58d68f",
   "metadata": {
    "slideshow": {
     "slide_type": "slide"
    }
   },
   "outputs": [
    {
     "name": "stdout",
     "output_type": "stream",
     "text": [
      "Largeur : 4132, hauteur : 8176\n"
     ]
    }
   ],
   "source": [
    "import requests\n",
    "\n",
    "# Exemple pour récupérer largeur et hauteur de l’image\n",
    "\n",
    "r = requests.get(\"https://ids.lib.harvard.edu/ids/iiif/25286607/info.json\")\n",
    "if r.status_code == requests.codes.ok:\n",
    "    info = r.json()\n",
    "    width = info['width']\n",
    "    height = info['height']\n",
    "    print(f\"Largeur : {width}, hauteur : {height}\")"
   ]
  },
  {
   "cell_type": "markdown",
   "id": "fbf91628",
   "metadata": {
    "slideshow": {
     "slide_type": "slide"
    }
   },
   "source": [
    "## Presentation API\n",
    "\n",
    "[https://iiif.io/api/presentation/3.0/](https://iiif.io/api/presentation/3.0/)\n",
    "\n",
    "Permet de décrire un objet numérique complexe comme une collection d’images par exemple\n",
    "\n",
    "Cette description est écrite dans un *manifest* le plus souvent distribué au formant JSON-LD (JSON Linked Data)\n"
   ]
  },
  {
   "cell_type": "markdown",
   "id": "6b289b98",
   "metadata": {
    "slideshow": {
     "slide_type": "slide"
    }
   },
   "source": [
    "![](https://iiif.io/api/assets/images/data-model.png)"
   ]
  },
  {
   "cell_type": "markdown",
   "id": "7e23dd8a",
   "metadata": {
    "slideshow": {
     "slide_type": "slide"
    }
   },
   "source": [
    "Exemple pour une image : [https://iiif.io/api/cookbook/recipe/0001-mvm-image/manifest.json](https://iiif.io/api/cookbook/recipe/0001-mvm-image/manifest.json)  \n",
    "Voir dans [Mirador](https://projectmirador.org/embed/?iiif-content=https://iiif.io/api/cookbook/recipe/0001-mvm-image/manifest.json)\n",
    "\n",
    "Un livre : [https://iiif.io/api/cookbook/recipe/0009-book-1/manifest.json](https://iiif.io/api/cookbook/recipe/0009-book-1/manifest.json)\n",
    "Voir dans [Universal Viewer](https://uv-v3.netlify.app/#?c=&m=&s=&cv=&manifest=https://iiif.io/api/cookbook/recipe/0009-book-1/manifest.json)\n",
    "\n",
    "Avec des métadonnées : [https://iiif.io/api/cookbook/recipe/0029-metadata-anywhere/manifest.json](https://iiif.io/api/cookbook/recipe/0029-metadata-anywhere/manifest.json)\n",
    "[Mirador](https://projectmirador.org/embed/?iiif-content=https://iiif.io/api/cookbook/recipe/0029-metadata-anywhere/manifest.json)\n",
    "\n",
    "Voir [iiif cookbook](https://iiif.io/api/cookbook/)"
   ]
  },
  {
   "cell_type": "markdown",
   "id": "13921b50",
   "metadata": {
    "slideshow": {
     "slide_type": "slide"
    }
   },
   "source": [
    "## Écrire un manifest\n",
    "\n",
    "- Via un programme, en Python par exemple :-)\n",
    "- Avec un éditeur spécialisé : [http://digital.bodleian.ox.ac.uk/manifest-editor/](http://digital.bodleian.ox.ac.uk/manifest-editor/)"
   ]
  },
  {
   "cell_type": "markdown",
   "id": "93c36fcd",
   "metadata": {
    "slideshow": {
     "slide_type": "slide"
    }
   },
   "source": [
    "Pour votre projet vous devrez enrichir les métadonnées d’un manifest\n",
    "\n",
    "Vous pouvez tester la validité de votre fichier manifest avec [https://presentation-validator.iiif.io/](https://presentation-validator.iiif.io/) mais il faut que le fichier soit accessible en ligne."
   ]
  },
  {
   "cell_type": "code",
   "execution_count": 1,
   "id": "b10f8adc",
   "metadata": {
    "slideshow": {
     "slide_type": "slide"
    }
   },
   "outputs": [],
   "source": [
    "import requests\n",
    "import json\n",
    "\n",
    "r = requests.get(\"https://iiif.io/api/cookbook/recipe/0029-metadata-anywhere/manifest.json\")\n",
    "manifest = r.json()\n",
    "metadata = manifest['metadata']\n",
    "\n",
    "## Création d’un nouvel item de métadonnées\n",
    "description = {\n",
    "    \"label\": {\n",
    "        \"en\": [\"Detected objects\"],\n",
    "        \"fr\": [\"Objets détectés\"]\n",
    "    },\n",
    "    \"value\": {\n",
    "        \"en\": [\"rabbit, zebra, pot\"],\n",
    "        \"fr\": [\"lapin, zèbre, casserole\"]\n",
    "    }\n",
    "}\n",
    "\n",
    "# Insertion dans la liste de metadata\n",
    "# (attention si je modifie metadata, manifest aussi est modifié)\n",
    "metadata.append(description)\n",
    "\n",
    "# Écriture du fichiers JSON résultat\n",
    "with open('manifest_rabbit.json', 'w') as json_file:\n",
    "    json.dump(manifest, json_file)"
   ]
  },
  {
   "cell_type": "markdown",
   "id": "f7ae52a7",
   "metadata": {
    "slideshow": {
     "slide_type": "slide"
    }
   },
   "source": [
    "## Sources\n",
    "\n",
    "Ce notebook s’appuie sur le contenu et les références des ressources suivantes :\n",
    "\n",
    " - [Introduction aux protocoles IIIF. Formation Enssib (Régis Robineau, 23 janvier 2019)](https://projet.biblissima.fr/fr/introduction-protocoles-iiif-formation-enssib-2019)\n",
    " - [IIIF Online workshop ](https://training.iiif.io/iiif-online-workshop/)"
   ]
  }
 ],
 "metadata": {
  "celltoolbar": "Slideshow",
  "kernelspec": {
   "display_name": "Python 3 (ipykernel)",
   "language": "python",
   "name": "python3"
  },
  "language_info": {
   "codemirror_mode": {
    "name": "ipython",
    "version": 3
   },
   "file_extension": ".py",
   "mimetype": "text/x-python",
   "name": "python",
   "nbconvert_exporter": "python",
   "pygments_lexer": "ipython3",
   "version": "3.10.12"
  }
 },
 "nbformat": 4,
 "nbformat_minor": 5
}
